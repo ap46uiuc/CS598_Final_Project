{
 "cells": [
  {
   "cell_type": "code",
   "execution_count": 4,
   "metadata": {},
   "outputs": [],
   "source": [
    "from pyhealth.datasets import MIMIC3Dataset\n"
   ]
  },
  {
   "cell_type": "code",
   "execution_count": 5,
   "metadata": {},
   "outputs": [],
   "source": [
    "import os\n",
    "import random\n",
    "import numpy as np\n",
    "import torch\n",
    "import torch.nn as nn\n",
    "import torch_geometric.utils as utils\n",
    "\n",
    "seed = 24\n",
    "random.seed(seed)\n",
    "np.random.seed(seed)\n",
    "torch.manual_seed(seed)\n",
    "os.environ[\"PYTHONHASHSEED\"] = str(seed)"
   ]
  },
  {
   "cell_type": "code",
   "execution_count": 6,
   "metadata": {},
   "outputs": [],
   "source": [
    "\n",
    "from edge_index import *"
   ]
  },
  {
   "cell_type": "code",
   "execution_count": 7,
   "metadata": {},
   "outputs": [],
   "source": [
    "from pyhealth.medcode import InnerMap\n",
    "ICD9 = InnerMap.load(\"ICD9CM\")\n",
    "ATC = InnerMap.load(\"ATC\")"
   ]
  },
  {
   "cell_type": "code",
   "execution_count": 8,
   "metadata": {},
   "outputs": [
    {
     "name": "stderr",
     "output_type": "stream",
     "text": [
      "Generating samples for drug_recommendation_mimic3_fn:  11%|██▎                 | 5711/49993 [00:00<00:00, 57092.90it/s]"
     ]
    },
    {
     "name": "stdout",
     "output_type": "stream",
     "text": [
      "\n",
      "Statistics of base dataset (dev=False):\n",
      "\t- Dataset: MIMIC3Dataset\n",
      "\t- Number of patients: 49993\n",
      "\t- Number of visits: 52769\n",
      "\t- Number of visits per patient: 1.0555\n",
      "\t- Number of events per visit in DIAGNOSES_ICD: 9.1038\n",
      "\t- Number of events per visit in PROCEDURES_ICD: 3.2186\n",
      "\t- Number of events per visit in PRESCRIPTIONS: 32.9969\n",
      "\n"
     ]
    },
    {
     "name": "stderr",
     "output_type": "stream",
     "text": [
      "Generating samples for drug_recommendation_mimic3_fn: 100%|███████████████████| 49993/49993 [00:00<00:00, 52836.05it/s]\n"
     ]
    }
   ],
   "source": [
    "from pyhealth.datasets import MIMIC3Dataset\n",
    "from pyhealth.tasks import drug_recommendation_mimic3_fn\n",
    "\n",
    "mimic3_ds = MIMIC3Dataset(\n",
    "        root=\"https://storage.googleapis.com/pyhealth/Synthetic_MIMIC-III/\",\n",
    "        tables=[\"DIAGNOSES_ICD\", \"PROCEDURES_ICD\", \"PRESCRIPTIONS\"],\n",
    "        code_mapping={\"NDC\": (\"ATC\", {\"target_kwargs\": {\"level\": 3}})},\n",
    ")\n",
    "\n",
    "# we show the statistics below.\n",
    "mimic3_ds.stat()\n",
    "dataset = mimic3_ds.set_task(task_fn=drug_recommendation_mimic3_fn)"
   ]
  },
  {
   "cell_type": "code",
   "execution_count": 137,
   "metadata": {},
   "outputs": [
    {
     "data": {
      "text/plain": [
       "96"
      ]
     },
     "execution_count": 137,
     "metadata": {},
     "output_type": "execute_result"
    }
   ],
   "source": [
    "m = 0\n",
    "for i in range(len(dataset.samples)):\n",
    "    if len(dataset.samples[i][\"drugs\"])>m:\n",
    "        m = len(dataset.samples[i][\"drugs\"])\n",
    "        \n",
    "m"
   ]
  },
  {
   "cell_type": "code",
   "execution_count": null,
   "metadata": {},
   "outputs": [],
   "source": []
  },
  {
   "cell_type": "code",
   "execution_count": 192,
   "metadata": {},
   "outputs": [],
   "source": [
    "ATC_map,ATC_child_edge_index,ATC_parent_edge_index = get_edge_index(ATC)"
   ]
  },
  {
   "cell_type": "code",
   "execution_count": 193,
   "metadata": {},
   "outputs": [],
   "source": [
    "ICD9_map,ICD9_child_edge_index,ICD9_parent_edge_index = get_edge_index(ICD9)"
   ]
  },
  {
   "cell_type": "code",
   "execution_count": 217,
   "metadata": {},
   "outputs": [
    {
     "data": {
      "text/plain": [
       "'136.3'"
      ]
     },
     "execution_count": 217,
     "metadata": {},
     "output_type": "execute_result"
    }
   ],
   "source": [
    "ICD9.standardize(\"1363\")"
   ]
  },
  {
   "cell_type": "code",
   "execution_count": 195,
   "metadata": {},
   "outputs": [],
   "source": [
    "ICD9_child_edge_index = utils.add_self_loops(torch.Tensor(ICD9_child_edge_index))\n",
    "ICD9_parent_edge_index = utils.add_self_loops(torch.Tensor(ICD9_parent_edge_index))\n",
    "ATC_child_edge_index = utils.add_self_loops(torch.Tensor(ATC_child_edge_index))\n",
    "ATC_parent_edge_index = utils.add_self_loops(torch.Tensor(ATC_parent_edge_index))\n"
   ]
  },
  {
   "cell_type": "code",
   "execution_count": 196,
   "metadata": {},
   "outputs": [],
   "source": [
    "ICD9_size = len(ICD9_map)\n",
    "ATC_size = len(ATC_map)\n",
    "\n",
    "v = torch.ones(ICD9_child_edge_index[0].size()[1])\n",
    "ICD9_child_adj = torch.sparse_coo_tensor(ICD9_child_edge_index[0],\n",
    "                               v,(ICD9_size,ICD9_size))\n",
    "v = torch.ones(ICD9_parent_edge_index[0].size()[1])\n",
    "ICD9_parent_adj = torch.sparse_coo_tensor(ICD9_parent_edge_index[0],\n",
    "                               v,(ICD9_size,ICD9_size))\n",
    "v = torch.ones(ATC_child_edge_index[0].size()[1])\n",
    "ATC_child_adj = torch.sparse_coo_tensor(ATC_child_edge_index[0],\n",
    "                               v,(ICD9_size,ICD9_size))\n",
    "v = torch.ones(ATC_parent_edge_index[0].size()[1])\n",
    "ATC_parent_adj = torch.sparse_coo_tensor(ATC_parent_edge_index[0],\n",
    "                               v,(ICD9_size,ICD9_size))\n"
   ]
  },
  {
   "cell_type": "code",
   "execution_count": 338,
   "metadata": {},
   "outputs": [
    {
     "data": {
      "text/plain": [
       "tensor([[  14.,   15.,   16.,  ..., 6437., 6438., 6439.],\n",
       "        [   0.,    0.,    0.,  ..., 6437., 6438., 6439.]])"
      ]
     },
     "execution_count": 338,
     "metadata": {},
     "output_type": "execute_result"
    }
   ],
   "source": [
    "ATC_parent_edge_index[0]"
   ]
  },
  {
   "cell_type": "code",
   "execution_count": 359,
   "metadata": {},
   "outputs": [
    {
     "name": "stdout",
     "output_type": "stream",
     "text": [
      "43 43\n",
      "40 40\n",
      "27 27\n",
      "29 29\n",
      "47 47\n",
      "27 27\n",
      "66 66\n",
      "45 45\n",
      "27 27\n",
      "24 24\n",
      "23 23\n",
      "48 48\n",
      "18 18\n",
      "55 55\n",
      "34 34\n",
      "16 16\n",
      "59 59\n",
      "47 47\n",
      "68 68\n",
      "93 93\n",
      "38 38\n",
      "11 11\n",
      "52 52\n",
      "41 41\n",
      "56 56\n",
      "48 48\n",
      "23 23\n",
      "13 13\n",
      "53 53\n",
      "42 42\n",
      "63 63\n",
      "31 31\n"
     ]
    },
    {
     "data": {
      "text/plain": [
       "tensor(indices=tensor([[    0,     0,     0,  ...,    31,    31,    31],\n",
       "                       [ 5873,  5873,  5873,  ...,  9952,  9952,  9952],\n",
       "                       [  306, 16383,   928,  ...,  4416,   928,  9952]]),\n",
       "       values=tensor([1, 1, 1,  ..., 1, 1, 1]),\n",
       "       size=(32, 17736, 17736), nnz=1307, layout=torch.sparse_coo)"
      ]
     },
     "execution_count": 359,
     "metadata": {},
     "output_type": "execute_result"
    }
   ],
   "source": [
    "def x2sparce_step1(x,parent_adj,child_adj,idx_map,code_bank):\n",
    "    indices = [[0],[0]]\n",
    "    values = []\n",
    "    size = len(idx_map)\n",
    "    first = True\n",
    "    for code in x:\n",
    "        code = code_bank.standardize(code)\n",
    "        l = parent_adj[idx_map[code]]._indices()[0]\n",
    "        l = l.tolist()\n",
    "        print(l)\n",
    "        row = []\n",
    "        col = []\n",
    "        v = []\n",
    "        for i in l:\n",
    "            tmp=child_adj[i]._indices().tolist()\n",
    "            for j in tmp[0]:\n",
    "                row.append(i)\n",
    "                col.append(j)\n",
    "                v.append(1)\n",
    "        if first:\n",
    "            indices[0] = row\n",
    "            indices[1] = col\n",
    "            first = False\n",
    "        else:\n",
    "            indices[0] = indices[0]+row\n",
    "            indices[1] = indices[1]+col\n",
    "        values = values + v\n",
    "    x_sparse = torch.sparse_coo_tensor(indices,\n",
    "                                       values,\n",
    "                                       size=(size,size))\n",
    "    return x_sparse\n",
    "\n",
    "\n",
    "def x2sparce_step2(x,parent_adj,child_adj,idx_map,code_bank):\n",
    "    indices = [[0],[0]]\n",
    "    values = []\n",
    "    size = len(idx_map)\n",
    "    first = True\n",
    "    for code in x:\n",
    "        code = code_bank.standardize(code)\n",
    "        l = parent_adj[idx_map[code]]._indices()[0]\n",
    "        l = l.tolist()\n",
    "        row = []\n",
    "        col = []\n",
    "        v = []\n",
    "        for i in l:\n",
    "            row.append(idx_map[code])\n",
    "            col.append(i)\n",
    "            v.append(1)\n",
    "        if first:\n",
    "            indices[0] = row\n",
    "            indices[1] = col\n",
    "            first = False\n",
    "        else:\n",
    "            indices[0] = indices[0]+row\n",
    "            indices[1] = indices[1]+col\n",
    "        values = values + v\n",
    "    print(len(indices[0]),len(values))\n",
    "    x_sparse = torch.sparse_coo_tensor(indices,\n",
    "                                       values,\n",
    "                                       size=(size,size))\n",
    "    return x_sparse\n",
    "    \n",
    "\n",
    "def parse_samples(input_data, type_of_data,parent_adj,child_adj,idx_map,code_bank):\n",
    "    indices = []\n",
    "    values = []\n",
    "    first = True\n",
    "    for visit in input_data:\n",
    "        x = visit[type_of_data]\n",
    "        c = x2sparce_step2(x,parent_adj,child_adj,idx_map,code_bank)\n",
    "        c = c.unsqueeze(0)\n",
    "        \n",
    "        if first:\n",
    "            sparse = c\n",
    "            first = False\n",
    "        else:\n",
    "            sparse = torch.cat((sparse,c),dim=0)\n",
    "    return sparse\n",
    "\n",
    "def parse_samples_step2(input_data, type_of_data,parent_adj,child_adj,idx_map,code_bank):\n",
    "    indices = []\n",
    "    values = []\n",
    "    first = True\n",
    "    for visit in input_data:\n",
    "        x = visit[type_of_data]\n",
    "        c = x2sparce_step2(x,parent_adj,child_adj,idx_map,code_bank)\n",
    "        c = c.unsqueeze(0)\n",
    "        \n",
    "        if first:\n",
    "            sparse = c\n",
    "            first = False\n",
    "        else:\n",
    "            sparse = torch.cat((sparse,c),dim=0)\n",
    "    return sparse\n",
    "\n",
    "parse_samples_step2(test,\"ICD9_CODE\",ICD9_parent_adj,ICD9_child_adj,ICD9_map,ICD9)\n"
   ]
  },
  {
   "cell_type": "code",
   "execution_count": 395,
   "metadata": {},
   "outputs": [],
   "source": [
    "class GAT(torch.nn.Module):\n",
    "    def __init__(self,child_adj,parent_adj,code2idx,code_bank,input_name):\n",
    "        super(GAT, self).__init__()\n",
    "        #input_dim to be the number of codes in the tree (ATC or ICD9).\n",
    "        #output dim to be 100 for tractibility\n",
    "        self.input_dim = len(code2idx)\n",
    "        self.output_dim = 100\n",
    "        self.weights_step1 = nn.Parameter(torch.Tensor(self.input_dim, self.output_dim))\n",
    "        nn.init.xavier_uniform_(self.weights_step1)\n",
    "        self.weights_step1.type(torch.DoubleTensor)\n",
    "        #Adjacency matrix generated outside of the class\n",
    "        self.child_adj = child_adj\n",
    "        self.parent_adj = parent_adj\n",
    "        #codes generated outside of the class\n",
    "        self.code2idx = code2idx\n",
    "        self.code_bank = code_bank\n",
    "        self.relu = nn.ReLU()\n",
    "        self.sm = nn.Softmax(dim=1)\n",
    "        \n",
    "        #name of table from x data that is being used. \"drugs\"/\"diagnosis\"\n",
    "        self.input_name = input_name\n",
    "        \n",
    "      \n",
    "    def forward(self,x):\n",
    "        # x to be passed in as [batch_size (visits), codes]\n",
    "        # first step is to process x into graph adjacency matrix [batch_size,#codes,#codes]\n",
    "        # has to be sparse matrices due to memory load\n",
    "        x_sparse = self.parse_samples_step1(x)\n",
    "        h = torch.zeros((len(x),self.weights_step1.shape[0],self.weights_step1.shape[1]))\n",
    "        for i in range(x_sparse.shape[0]):\n",
    "            h[i] = torch.matmul(x_sparse[i].float(),self.weights_step1)\n",
    "        \n",
    "        x_sparse = self.parse_samples_step2(x)\n",
    "        for i in range(x_sparse.shape[0]):\n",
    "            h[i] = torch.matmul(x_sparse[i].float(),h[i])\n",
    "        h[h==0] = -1e9\n",
    "        att = self.sm(h)\n",
    "        att = self.relu(h)\n",
    "        \n",
    "        \n",
    "        return att\n",
    "        \n",
    "    def x2sparce_step1(self, x):\n",
    "        indices = [[0],[0]]\n",
    "        values = []\n",
    "        size = len(self.code2idx)\n",
    "        first = True\n",
    "        for code in x:\n",
    "            code = self.code_bank.standardize(code)\n",
    "            \n",
    "            l = self.parent_adj[self.code2idx[code]]._indices()[0]\n",
    "            l = l.tolist()\n",
    "            row = []\n",
    "            col = []\n",
    "            v = []\n",
    "            for i in l:\n",
    "                tmp=self.child_adj[i]._indices().tolist()\n",
    "                for j in tmp[0]:\n",
    "                    row.append(i)\n",
    "                    col.append(j)\n",
    "                    v.append(1)\n",
    "            if first:\n",
    "                indices[0] = row\n",
    "                indices[1] = col\n",
    "                first = False\n",
    "            else:\n",
    "                indices[0] = indices[0]+row\n",
    "                indices[1] = indices[1]+col\n",
    "            values = values + v\n",
    "        x_sparse = torch.sparse_coo_tensor(indices,\n",
    "                                           values,\n",
    "                                           size=(size,size))\n",
    "        return x_sparse\n",
    "\n",
    "    \n",
    "    def x2sparce_step2(self,x):\n",
    "        indices = [[0],[0]]\n",
    "        values = []\n",
    "        size = len(self.code2idx)\n",
    "        first = True\n",
    "        for code in x:\n",
    "            code = self.code_bank.standardize(code)\n",
    "            l = self.parent_adj[self.code2idx[code]]._indices()[0]\n",
    "            l = l.tolist()\n",
    "            row = []\n",
    "            col = []\n",
    "            v = []\n",
    "            for i in l:\n",
    "                row.append(self.code2idx[code])\n",
    "                col.append(i)\n",
    "                v.append(1)\n",
    "            if first:\n",
    "                indices[0] = row\n",
    "                indices[1] = col\n",
    "                first = False\n",
    "            else:\n",
    "                indices[0] = indices[0]+row\n",
    "                indices[1] = indices[1]+col\n",
    "            values = values + v\n",
    "        x_sparse = torch.sparse_coo_tensor(indices,\n",
    "                                           values,\n",
    "                                           size=(size,size))\n",
    "        return x_sparse\n",
    "\n",
    "    def parse_samples_step1(self, input_data):\n",
    "        indices = []\n",
    "        values = []\n",
    "        first = True\n",
    "        for visit in input_data:\n",
    "            x = visit[self.input_name]\n",
    "            c = self.x2sparce_step1(x)\n",
    "            c = c.unsqueeze(0)\n",
    "\n",
    "            if first:\n",
    "                sparse = c\n",
    "                first = False\n",
    "            else:\n",
    "                sparse = torch.cat((sparse,c),dim=0)\n",
    "        return sparse\n",
    "    \n",
    "    \n",
    "    def parse_samples_step2(self,input_data):\n",
    "        indices = []\n",
    "        values = []\n",
    "        first = True\n",
    "        for visit in input_data:\n",
    "            x = visit[self.input_name]\n",
    "            c = self.x2sparce_step2(x)\n",
    "            c = c.unsqueeze(0)\n",
    "\n",
    "            if first:\n",
    "                sparse = c\n",
    "                first = False\n",
    "            else:\n",
    "                sparse = torch.cat((sparse,c),dim=0)\n",
    "        return sparse"
   ]
  },
  {
   "cell_type": "code",
   "execution_count": null,
   "metadata": {},
   "outputs": [],
   "source": []
  },
  {
   "cell_type": "code",
   "execution_count": 400,
   "metadata": {},
   "outputs": [
    {
     "data": {
      "text/plain": [
       "tensor(1.9343, grad_fn=<MaxBackward1>)"
      ]
     },
     "execution_count": 400,
     "metadata": {},
     "output_type": "execute_result"
    }
   ],
   "source": [
    "diag_ont = GAT(ICD9_child_adj,ICD9_parent_adj,ICD9_map,ICD9,\"ICD9_CODE\")\n",
    "diag_ont.forward(test).max()"
   ]
  },
  {
   "cell_type": "code",
   "execution_count": null,
   "metadata": {},
   "outputs": [],
   "source": []
  },
  {
   "cell_type": "code",
   "execution_count": null,
   "metadata": {},
   "outputs": [],
   "source": []
  },
  {
   "cell_type": "code",
   "execution_count": null,
   "metadata": {},
   "outputs": [],
   "source": []
  },
  {
   "cell_type": "code",
   "execution_count": 74,
   "metadata": {},
   "outputs": [],
   "source": [
    "\n",
    "import pickle\n",
    "\n",
    "\n",
    "with open('data-single-visit.pkl', 'rb') as f:\n",
    "    data = pickle.load(f)"
   ]
  },
  {
   "cell_type": "code",
   "execution_count": 183,
   "metadata": {},
   "outputs": [
    {
     "data": {
      "text/plain": [
       "'Pneumocystosis'"
      ]
     },
     "execution_count": 183,
     "metadata": {},
     "output_type": "execute_result"
    }
   ],
   "source": [
    "ICD9.lookup(\"1363\")"
   ]
  },
  {
   "cell_type": "code",
   "execution_count": 180,
   "metadata": {},
   "outputs": [
    {
     "data": {
      "text/html": [
       "<div>\n",
       "<style scoped>\n",
       "    .dataframe tbody tr th:only-of-type {\n",
       "        vertical-align: middle;\n",
       "    }\n",
       "\n",
       "    .dataframe tbody tr th {\n",
       "        vertical-align: top;\n",
       "    }\n",
       "\n",
       "    .dataframe thead th {\n",
       "        text-align: right;\n",
       "    }\n",
       "</style>\n",
       "<table border=\"1\" class=\"dataframe\">\n",
       "  <thead>\n",
       "    <tr style=\"text-align: right;\">\n",
       "      <th></th>\n",
       "      <th>SUBJECT_ID</th>\n",
       "      <th>HADM_ID</th>\n",
       "      <th>ICD9_CODE</th>\n",
       "      <th>ATC4</th>\n",
       "    </tr>\n",
       "  </thead>\n",
       "  <tbody>\n",
       "    <tr>\n",
       "      <th>0</th>\n",
       "      <td>4</td>\n",
       "      <td>185777</td>\n",
       "      <td>[042, 1363, 7994, 2763, 7907, 5715, 04111, V09...</td>\n",
       "      <td>[A10AE, R05DB, R05DA, P01BA, A12BA, N03AE, A07...</td>\n",
       "    </tr>\n",
       "    <tr>\n",
       "      <th>1</th>\n",
       "      <td>6</td>\n",
       "      <td>107064</td>\n",
       "      <td>[40391, 4440, 9972, 2766, 2767, 2859, 2753, V1...</td>\n",
       "      <td>[A06AA, L04AA, A12CA, C07AB, C08CA, B01AB, D11...</td>\n",
       "    </tr>\n",
       "    <tr>\n",
       "      <th>2</th>\n",
       "      <td>8</td>\n",
       "      <td>159514</td>\n",
       "      <td>[V3001, 7706, 7746, V290, V502, V053]</td>\n",
       "      <td>[J01CA, D06AX]</td>\n",
       "    </tr>\n",
       "    <tr>\n",
       "      <th>3</th>\n",
       "      <td>9</td>\n",
       "      <td>150750</td>\n",
       "      <td>[431, 5070, 4280, 5849, 2765, 4019]</td>\n",
       "      <td>[B05CX, A12CA, J01MA, A01AB, C02DD, N01AX, A02...</td>\n",
       "    </tr>\n",
       "    <tr>\n",
       "      <th>4</th>\n",
       "      <td>12</td>\n",
       "      <td>112213</td>\n",
       "      <td>[1570, 57410, 9971, 4275, 99811, 4019, 5680, 5...</td>\n",
       "      <td>[B01AB, A12CA, B05CX, N01AX, A02BC, A12AA, A01...</td>\n",
       "    </tr>\n",
       "    <tr>\n",
       "      <th>...</th>\n",
       "      <td>...</td>\n",
       "      <td>...</td>\n",
       "      <td>...</td>\n",
       "      <td>...</td>\n",
       "    </tr>\n",
       "    <tr>\n",
       "      <th>30740</th>\n",
       "      <td>99985</td>\n",
       "      <td>176670</td>\n",
       "      <td>[0389, 51881, 48241, 4870, 78552, V4281, 99592...</td>\n",
       "      <td>[B01AB, A12CA, N02BE, A04AA, J01MA, A06AA, C10...</td>\n",
       "    </tr>\n",
       "    <tr>\n",
       "      <th>30741</th>\n",
       "      <td>99991</td>\n",
       "      <td>151118</td>\n",
       "      <td>[56211, 0389, 5570, 5849, 99592, 56081, 78959,...</td>\n",
       "      <td>[B01AB, A12CA, N02BE, B05CX, A01AB, C02DB, A12...</td>\n",
       "    </tr>\n",
       "    <tr>\n",
       "      <th>30742</th>\n",
       "      <td>99992</td>\n",
       "      <td>197084</td>\n",
       "      <td>[9999, 56881, 5772, 2851, 5849, 72992, 53081, ...</td>\n",
       "      <td>[N02BE, B05CX, N05BA, B03BB, A02BC, N06AX, C01...</td>\n",
       "    </tr>\n",
       "    <tr>\n",
       "      <th>30743</th>\n",
       "      <td>99995</td>\n",
       "      <td>137810</td>\n",
       "      <td>[4414, 42833, 99812, 2851, 4241, 25000, 99811,...</td>\n",
       "      <td>[B01AB, N02BE, C02DB, C07AB, B05CX, A07AA, C01...</td>\n",
       "    </tr>\n",
       "    <tr>\n",
       "      <th>30744</th>\n",
       "      <td>99999</td>\n",
       "      <td>113369</td>\n",
       "      <td>[7861, 4019, 25000, 4139]</td>\n",
       "      <td>[B01AB, A12CA, N02BE, B05CX, A12AA, A06AB, A06...</td>\n",
       "    </tr>\n",
       "  </tbody>\n",
       "</table>\n",
       "<p>30745 rows × 4 columns</p>\n",
       "</div>"
      ],
      "text/plain": [
       "       SUBJECT_ID  HADM_ID                                          ICD9_CODE  \\\n",
       "0               4   185777  [042, 1363, 7994, 2763, 7907, 5715, 04111, V09...   \n",
       "1               6   107064  [40391, 4440, 9972, 2766, 2767, 2859, 2753, V1...   \n",
       "2               8   159514              [V3001, 7706, 7746, V290, V502, V053]   \n",
       "3               9   150750                [431, 5070, 4280, 5849, 2765, 4019]   \n",
       "4              12   112213  [1570, 57410, 9971, 4275, 99811, 4019, 5680, 5...   \n",
       "...           ...      ...                                                ...   \n",
       "30740       99985   176670  [0389, 51881, 48241, 4870, 78552, V4281, 99592...   \n",
       "30741       99991   151118  [56211, 0389, 5570, 5849, 99592, 56081, 78959,...   \n",
       "30742       99992   197084  [9999, 56881, 5772, 2851, 5849, 72992, 53081, ...   \n",
       "30743       99995   137810  [4414, 42833, 99812, 2851, 4241, 25000, 99811,...   \n",
       "30744       99999   113369                          [7861, 4019, 25000, 4139]   \n",
       "\n",
       "                                                    ATC4  \n",
       "0      [A10AE, R05DB, R05DA, P01BA, A12BA, N03AE, A07...  \n",
       "1      [A06AA, L04AA, A12CA, C07AB, C08CA, B01AB, D11...  \n",
       "2                                         [J01CA, D06AX]  \n",
       "3      [B05CX, A12CA, J01MA, A01AB, C02DD, N01AX, A02...  \n",
       "4      [B01AB, A12CA, B05CX, N01AX, A02BC, A12AA, A01...  \n",
       "...                                                  ...  \n",
       "30740  [B01AB, A12CA, N02BE, A04AA, J01MA, A06AA, C10...  \n",
       "30741  [B01AB, A12CA, N02BE, B05CX, A01AB, C02DB, A12...  \n",
       "30742  [N02BE, B05CX, N05BA, B03BB, A02BC, N06AX, C01...  \n",
       "30743  [B01AB, N02BE, C02DB, C07AB, B05CX, A07AA, C01...  \n",
       "30744  [B01AB, A12CA, N02BE, B05CX, A12AA, A06AB, A06...  \n",
       "\n",
       "[30745 rows x 4 columns]"
      ]
     },
     "execution_count": 180,
     "metadata": {},
     "output_type": "execute_result"
    }
   ],
   "source": [
    "data"
   ]
  },
  {
   "cell_type": "code",
   "execution_count": null,
   "metadata": {},
   "outputs": [],
   "source": []
  }
 ],
 "metadata": {
  "kernelspec": {
   "display_name": "Python 3",
   "language": "python",
   "name": "python3"
  },
  "language_info": {
   "codemirror_mode": {
    "name": "ipython",
    "version": 3
   },
   "file_extension": ".py",
   "mimetype": "text/x-python",
   "name": "python",
   "nbconvert_exporter": "python",
   "pygments_lexer": "ipython3",
   "version": "3.7.3"
  }
 },
 "nbformat": 4,
 "nbformat_minor": 4
}
